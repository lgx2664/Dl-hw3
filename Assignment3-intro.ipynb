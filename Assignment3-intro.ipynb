{
 "cells": [
  {
   "cell_type": "markdown",
   "metadata": {},
   "source": [
    "## Columbia University\n",
    "### ECBM E4040 Neural Networks and Deep Learning. Fall 2020."
   ]
  },
  {
   "cell_type": "markdown",
   "metadata": {},
   "source": [
    "# Assignment 3\n",
    "\n",
    "In this assignment, you will experiment with recurrent neural network(RNN).\n",
    "\n",
    "### Task 1: XNOR net (40%)\n",
    "\n",
    "Create a RNN network which can correctly compute the XNOR operation.\n",
    "\n",
    "### Task 2: RNN Application - Image Captioning (60%)\n",
    "\n",
    "Create a Neural Network Model using a LSTM cell, for generating captions from images.\n"
   ]
  },
  {
   "cell_type": "markdown",
   "metadata": {
    "collapsed": true
   },
   "source": [
    "### Submission requirements\n",
    "\n",
    "1. Save the code and the results in .py and .ipynb.\n",
    "2. Follow other naming instructions on Github Classroom and/or Courseworks\n"
   ]
  }
 ],
 "metadata": {
  "anaconda-cloud": {},
  "kernelspec": {
   "display_name": "Python 3",
   "language": "python",
   "name": "python3"
  },
  "language_info": {
   "codemirror_mode": {
    "name": "ipython",
    "version": 3
   },
   "file_extension": ".py",
   "mimetype": "text/x-python",
   "name": "python",
   "nbconvert_exporter": "python",
   "pygments_lexer": "ipython3",
   "version": "3.7.7"
  }
 },
 "nbformat": 4,
 "nbformat_minor": 2
}
